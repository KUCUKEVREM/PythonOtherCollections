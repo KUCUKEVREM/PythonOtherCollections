{
 "cells": [
  {
   "cell_type": "code",
   "execution_count": 1,
   "id": "89b13a50",
   "metadata": {},
   "outputs": [],
   "source": [
    "benim_listem = [1,2,3,4]"
   ]
  },
  {
   "cell_type": "code",
   "execution_count": 2,
   "id": "3735ca12",
   "metadata": {},
   "outputs": [
    {
     "data": {
      "text/plain": [
       "1"
      ]
     },
     "execution_count": 2,
     "metadata": {},
     "output_type": "execute_result"
    }
   ],
   "source": [
    "benim_listem[0]"
   ]
  },
  {
   "cell_type": "code",
   "execution_count": 3,
   "id": "114a89d3",
   "metadata": {},
   "outputs": [],
   "source": [
    "#dictionary --> key-value pairing"
   ]
  },
  {
   "cell_type": "code",
   "execution_count": 4,
   "id": "5d21ba04",
   "metadata": {},
   "outputs": [],
   "source": [
    "yemeklerim = [\"elma\", \"armut\", \"karpuz\"]"
   ]
  },
  {
   "cell_type": "code",
   "execution_count": 5,
   "id": "4b39cc9b",
   "metadata": {},
   "outputs": [],
   "source": [
    "kalorilerim = [100,200,300]"
   ]
  },
  {
   "cell_type": "code",
   "execution_count": 6,
   "id": "c7b5140e",
   "metadata": {},
   "outputs": [
    {
     "data": {
      "text/plain": [
       "'armut'"
      ]
     },
     "execution_count": 6,
     "metadata": {},
     "output_type": "execute_result"
    }
   ],
   "source": [
    "yemeklerim  [1]"
   ]
  },
  {
   "cell_type": "code",
   "execution_count": 7,
   "id": "61cb25e3",
   "metadata": {
    "scrolled": true
   },
   "outputs": [
    {
     "data": {
      "text/plain": [
       "200"
      ]
     },
     "execution_count": 7,
     "metadata": {},
     "output_type": "execute_result"
    }
   ],
   "source": [
    "kalorilerim [1]"
   ]
  },
  {
   "cell_type": "code",
   "execution_count": 8,
   "id": "d7073be9",
   "metadata": {},
   "outputs": [],
   "source": [
    "sozluk = {\"anahtarkelime\":\"deger\"}"
   ]
  },
  {
   "cell_type": "code",
   "execution_count": 9,
   "id": "ec95344c",
   "metadata": {},
   "outputs": [
    {
     "data": {
      "text/plain": [
       "'deger'"
      ]
     },
     "execution_count": 9,
     "metadata": {},
     "output_type": "execute_result"
    }
   ],
   "source": [
    "sozluk[\"anahtarkelime\"]"
   ]
  },
  {
   "cell_type": "code",
   "execution_count": 10,
   "id": "8db56663",
   "metadata": {},
   "outputs": [],
   "source": [
    "kalori_yemek_sozluk= {\"elma\":100, \"armut\":200}"
   ]
  },
  {
   "cell_type": "code",
   "execution_count": 11,
   "id": "de02ae4c",
   "metadata": {},
   "outputs": [
    {
     "data": {
      "text/plain": [
       "100"
      ]
     },
     "execution_count": 11,
     "metadata": {},
     "output_type": "execute_result"
    }
   ],
   "source": [
    "kalori_yemek_sozluk[\"elma\"]"
   ]
  },
  {
   "cell_type": "code",
   "execution_count": 12,
   "id": "b42196b9",
   "metadata": {},
   "outputs": [
    {
     "data": {
      "text/plain": [
       "200"
      ]
     },
     "execution_count": 12,
     "metadata": {},
     "output_type": "execute_result"
    }
   ],
   "source": [
    "kalori_yemek_sozluk[\"armut\"]"
   ]
  },
  {
   "cell_type": "code",
   "execution_count": 13,
   "id": "5db3dfb0",
   "metadata": {},
   "outputs": [
    {
     "data": {
      "text/plain": [
       "dict"
      ]
     },
     "execution_count": 13,
     "metadata": {},
     "output_type": "execute_result"
    }
   ],
   "source": [
    "type(kalori_yemek_sozluk)"
   ]
  },
  {
   "cell_type": "code",
   "execution_count": 14,
   "id": "42abf2da",
   "metadata": {},
   "outputs": [
    {
     "data": {
      "text/plain": [
       "dict_items([('elma', 100), ('armut', 200)])"
      ]
     },
     "execution_count": 14,
     "metadata": {},
     "output_type": "execute_result"
    }
   ],
   "source": [
    "kalori_yemek_sozluk.items()"
   ]
  },
  {
   "cell_type": "code",
   "execution_count": 15,
   "id": "9c610f3a",
   "metadata": {},
   "outputs": [
    {
     "data": {
      "text/plain": [
       "dict_values([100, 200])"
      ]
     },
     "execution_count": 15,
     "metadata": {},
     "output_type": "execute_result"
    }
   ],
   "source": [
    "kalori_yemek_sozluk.values()"
   ]
  },
  {
   "cell_type": "code",
   "execution_count": 16,
   "id": "c5d18d03",
   "metadata": {},
   "outputs": [
    {
     "data": {
      "text/plain": [
       "dict_keys(['elma', 'armut'])"
      ]
     },
     "execution_count": 16,
     "metadata": {},
     "output_type": "execute_result"
    }
   ],
   "source": [
    "kalori_yemek_sozluk.keys()"
   ]
  },
  {
   "cell_type": "code",
   "execution_count": 17,
   "id": "5fe3f2be",
   "metadata": {},
   "outputs": [],
   "source": [
    "kalori_yemek_sozluk[\"uzum\"]=400"
   ]
  },
  {
   "cell_type": "code",
   "execution_count": 18,
   "id": "b19092e7",
   "metadata": {},
   "outputs": [
    {
     "data": {
      "text/plain": [
       "{'elma': 100, 'armut': 200, 'uzum': 400}"
      ]
     },
     "execution_count": 18,
     "metadata": {},
     "output_type": "execute_result"
    }
   ],
   "source": [
    "kalori_yemek_sozluk"
   ]
  },
  {
   "cell_type": "code",
   "execution_count": 19,
   "id": "8a240158",
   "metadata": {},
   "outputs": [],
   "source": [
    "kalori_yemek_sozluk[\"elma\"]=150"
   ]
  },
  {
   "cell_type": "code",
   "execution_count": 20,
   "id": "0061ad23",
   "metadata": {},
   "outputs": [
    {
     "data": {
      "text/plain": [
       "{'elma': 150, 'armut': 200, 'uzum': 400}"
      ]
     },
     "execution_count": 20,
     "metadata": {},
     "output_type": "execute_result"
    }
   ],
   "source": [
    "kalori_yemek_sozluk"
   ]
  },
  {
   "cell_type": "code",
   "execution_count": 21,
   "id": "69714ca4",
   "metadata": {},
   "outputs": [],
   "source": [
    "tuhaf_sozluk = {1:\"merve\", 2:\"ali\"}"
   ]
  },
  {
   "cell_type": "code",
   "execution_count": 22,
   "id": "2e18f3d2",
   "metadata": {},
   "outputs": [
    {
     "data": {
      "text/plain": [
       "{1: 'merve', 2: 'ali'}"
      ]
     },
     "execution_count": 22,
     "metadata": {},
     "output_type": "execute_result"
    }
   ],
   "source": [
    "tuhaf_sozluk"
   ]
  },
  {
   "cell_type": "code",
   "execution_count": 23,
   "id": "8a4c0185",
   "metadata": {},
   "outputs": [
    {
     "data": {
      "text/plain": [
       "'merve'"
      ]
     },
     "execution_count": 23,
     "metadata": {},
     "output_type": "execute_result"
    }
   ],
   "source": [
    "tuhaf_sozluk[1]"
   ]
  },
  {
   "cell_type": "code",
   "execution_count": 24,
   "id": "b3f86f2b",
   "metadata": {},
   "outputs": [],
   "source": [
    "karisik_sozluk = {\"anahtar\":100, 20:\"değer\"}"
   ]
  },
  {
   "cell_type": "code",
   "execution_count": 25,
   "id": "ceea511c",
   "metadata": {},
   "outputs": [
    {
     "data": {
      "text/plain": [
       "{'anahtar': 100, 20: 'değer'}"
      ]
     },
     "execution_count": 25,
     "metadata": {},
     "output_type": "execute_result"
    }
   ],
   "source": [
    "karisik_sozluk"
   ]
  },
  {
   "cell_type": "code",
   "execution_count": 26,
   "id": "d591728e",
   "metadata": {},
   "outputs": [
    {
     "data": {
      "text/plain": [
       "100"
      ]
     },
     "execution_count": 26,
     "metadata": {},
     "output_type": "execute_result"
    }
   ],
   "source": [
    "karisik_sozluk[\"anahtar\"]"
   ]
  },
  {
   "cell_type": "code",
   "execution_count": 27,
   "id": "f9fcfa6a",
   "metadata": {},
   "outputs": [
    {
     "data": {
      "text/plain": [
       "'değer'"
      ]
     },
     "execution_count": 27,
     "metadata": {},
     "output_type": "execute_result"
    }
   ],
   "source": [
    "karisik_sozluk[20]"
   ]
  },
  {
   "cell_type": "code",
   "execution_count": 28,
   "id": "4392fc06",
   "metadata": {},
   "outputs": [],
   "source": [
    "#set"
   ]
  },
  {
   "cell_type": "code",
   "execution_count": 29,
   "id": "83b87b44",
   "metadata": {},
   "outputs": [],
   "source": [
    "list = [1,2,3,1,4,2]"
   ]
  },
  {
   "cell_type": "code",
   "execution_count": 30,
   "id": "2e97d7d2",
   "metadata": {},
   "outputs": [],
   "source": [
    "set_hali = set(list)"
   ]
  },
  {
   "cell_type": "code",
   "execution_count": 31,
   "id": "144a5dda",
   "metadata": {},
   "outputs": [
    {
     "data": {
      "text/plain": [
       "{1, 2, 3, 4}"
      ]
     },
     "execution_count": 31,
     "metadata": {},
     "output_type": "execute_result"
    }
   ],
   "source": [
    "set_hali"
   ]
  },
  {
   "cell_type": "code",
   "execution_count": 32,
   "id": "4b4304cc",
   "metadata": {},
   "outputs": [],
   "source": [
    "setim = {\"a\", \"b\", \"c\", \"a\"}"
   ]
  },
  {
   "cell_type": "code",
   "execution_count": 33,
   "id": "ecc08302",
   "metadata": {},
   "outputs": [
    {
     "data": {
      "text/plain": [
       "{'a', 'b', 'c'}"
      ]
     },
     "execution_count": 33,
     "metadata": {},
     "output_type": "execute_result"
    }
   ],
   "source": [
    "setim"
   ]
  },
  {
   "cell_type": "code",
   "execution_count": 34,
   "id": "e22dc0b0",
   "metadata": {},
   "outputs": [],
   "source": [
    "setim.update(\"d\")"
   ]
  },
  {
   "cell_type": "code",
   "execution_count": 35,
   "id": "496dc4d7",
   "metadata": {},
   "outputs": [
    {
     "data": {
      "text/plain": [
       "{'a', 'b', 'c', 'd'}"
      ]
     },
     "execution_count": 35,
     "metadata": {},
     "output_type": "execute_result"
    }
   ],
   "source": [
    "setim"
   ]
  },
  {
   "cell_type": "code",
   "execution_count": 37,
   "id": "986404f2",
   "metadata": {},
   "outputs": [],
   "source": [
    "bos_set = set ()"
   ]
  },
  {
   "cell_type": "code",
   "execution_count": 38,
   "id": "4099115a",
   "metadata": {},
   "outputs": [
    {
     "data": {
      "text/plain": [
       "set"
      ]
     },
     "execution_count": 38,
     "metadata": {},
     "output_type": "execute_result"
    }
   ],
   "source": [
    "type(bos_set)"
   ]
  },
  {
   "cell_type": "code",
   "execution_count": 39,
   "id": "0511f160",
   "metadata": {},
   "outputs": [],
   "source": [
    "bos_set.add(10)\n",
    "bos_set.add(20)"
   ]
  },
  {
   "cell_type": "code",
   "execution_count": 40,
   "id": "77cd515b",
   "metadata": {},
   "outputs": [
    {
     "data": {
      "text/plain": [
       "{10, 20}"
      ]
     },
     "execution_count": 40,
     "metadata": {},
     "output_type": "execute_result"
    }
   ],
   "source": [
    "bos_set"
   ]
  },
  {
   "cell_type": "code",
   "execution_count": 41,
   "id": "5076dc66",
   "metadata": {},
   "outputs": [],
   "source": [
    "#tuple"
   ]
  },
  {
   "cell_type": "code",
   "execution_count": 42,
   "id": "8c29f53a",
   "metadata": {},
   "outputs": [],
   "source": [
    "normal_list = [1,2,\"c\",4,5]"
   ]
  },
  {
   "cell_type": "code",
   "execution_count": 43,
   "id": "fd98808d",
   "metadata": {},
   "outputs": [
    {
     "data": {
      "text/plain": [
       "1"
      ]
     },
     "execution_count": 43,
     "metadata": {},
     "output_type": "execute_result"
    }
   ],
   "source": [
    "normal_list[0]"
   ]
  },
  {
   "cell_type": "code",
   "execution_count": 44,
   "id": "b59f64e9",
   "metadata": {},
   "outputs": [],
   "source": [
    "normal_list.append(6)"
   ]
  },
  {
   "cell_type": "code",
   "execution_count": 45,
   "id": "4ff93b9d",
   "metadata": {},
   "outputs": [],
   "source": [
    "normal_list[0]=100"
   ]
  },
  {
   "cell_type": "code",
   "execution_count": 46,
   "id": "47e91d76",
   "metadata": {},
   "outputs": [
    {
     "data": {
      "text/plain": [
       "[100, 2, 'c', 4, 5, 6]"
      ]
     },
     "execution_count": 46,
     "metadata": {},
     "output_type": "execute_result"
    }
   ],
   "source": [
    "normal_list"
   ]
  },
  {
   "cell_type": "code",
   "execution_count": 55,
   "id": "116d360b",
   "metadata": {},
   "outputs": [],
   "source": [
    "tuplem = (1,2,\"c\",4.5)"
   ]
  },
  {
   "cell_type": "code",
   "execution_count": 56,
   "id": "5c20ac3c",
   "metadata": {},
   "outputs": [
    {
     "data": {
      "text/plain": [
       "tuple"
      ]
     },
     "execution_count": 56,
     "metadata": {},
     "output_type": "execute_result"
    }
   ],
   "source": [
    "type(tuplem)"
   ]
  },
  {
   "cell_type": "code",
   "execution_count": 57,
   "id": "461ac8f0",
   "metadata": {},
   "outputs": [
    {
     "data": {
      "text/plain": [
       "'c'"
      ]
     },
     "execution_count": 57,
     "metadata": {},
     "output_type": "execute_result"
    }
   ],
   "source": [
    "tuplem[2]"
   ]
  },
  {
   "cell_type": "code",
   "execution_count": 58,
   "id": "cf07a087",
   "metadata": {},
   "outputs": [
    {
     "ename": "TypeError",
     "evalue": "'tuple' object does not support item assignment",
     "output_type": "error",
     "traceback": [
      "\u001b[1;31m---------------------------------------------------------------------------\u001b[0m",
      "\u001b[1;31mTypeError\u001b[0m                                 Traceback (most recent call last)",
      "Input \u001b[1;32mIn [58]\u001b[0m, in \u001b[0;36m<cell line: 1>\u001b[1;34m()\u001b[0m\n\u001b[1;32m----> 1\u001b[0m tuplem[\u001b[38;5;241m0\u001b[39m]\u001b[38;5;241m=\u001b[39m\u001b[38;5;241m100\u001b[39m\n",
      "\u001b[1;31mTypeError\u001b[0m: 'tuple' object does not support item assignment"
     ]
    }
   ],
   "source": [
    "tuplem[0]=100"
   ]
  },
  {
   "cell_type": "code",
   "execution_count": 59,
   "id": "e53aebd9",
   "metadata": {},
   "outputs": [
    {
     "data": {
      "text/plain": [
       "<function tuple.count(value, /)>"
      ]
     },
     "execution_count": 59,
     "metadata": {},
     "output_type": "execute_result"
    }
   ],
   "source": [
    "tuplem.count"
   ]
  },
  {
   "cell_type": "code",
   "execution_count": 60,
   "id": "b9b9ae05",
   "metadata": {},
   "outputs": [
    {
     "data": {
      "text/plain": [
       "0"
      ]
     },
     "execution_count": 60,
     "metadata": {},
     "output_type": "execute_result"
    }
   ],
   "source": [
    "tuplem.count(3)"
   ]
  },
  {
   "cell_type": "code",
   "execution_count": 61,
   "id": "0d8dacfd",
   "metadata": {},
   "outputs": [
    {
     "ename": "TypeError",
     "evalue": "'list' object is not callable",
     "output_type": "error",
     "traceback": [
      "\u001b[1;31m---------------------------------------------------------------------------\u001b[0m",
      "\u001b[1;31mTypeError\u001b[0m                                 Traceback (most recent call last)",
      "Input \u001b[1;32mIn [61]\u001b[0m, in \u001b[0;36m<cell line: 1>\u001b[1;34m()\u001b[0m\n\u001b[1;32m----> 1\u001b[0m benim_listem \u001b[38;5;241m=\u001b[39m \u001b[38;5;28;43mlist\u001b[39;49m\u001b[43m(\u001b[49m\u001b[43mtuplem\u001b[49m\u001b[43m)\u001b[49m\n",
      "\u001b[1;31mTypeError\u001b[0m: 'list' object is not callable"
     ]
    }
   ],
   "source": [
    "benim_listem = list(tuplem)"
   ]
  },
  {
   "cell_type": "code",
   "execution_count": 62,
   "id": "51398e3e",
   "metadata": {},
   "outputs": [
    {
     "data": {
      "text/plain": [
       "[1, 2, 3, 4]"
      ]
     },
     "execution_count": 62,
     "metadata": {},
     "output_type": "execute_result"
    }
   ],
   "source": [
    "benim_listem"
   ]
  },
  {
   "cell_type": "code",
   "execution_count": null,
   "id": "a2cec67c",
   "metadata": {},
   "outputs": [],
   "source": []
  }
 ],
 "metadata": {
  "kernelspec": {
   "display_name": "Python 3 (ipykernel)",
   "language": "python",
   "name": "python3"
  },
  "language_info": {
   "codemirror_mode": {
    "name": "ipython",
    "version": 3
   },
   "file_extension": ".py",
   "mimetype": "text/x-python",
   "name": "python",
   "nbconvert_exporter": "python",
   "pygments_lexer": "ipython3",
   "version": "3.9.12"
  }
 },
 "nbformat": 4,
 "nbformat_minor": 5
}
